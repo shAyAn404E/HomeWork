{
 "cells": [
  {
   "cell_type": "code",
   "id": "initial_id",
   "metadata": {
    "collapsed": true
   },
   "source": [
    "import matplotlib.pyplot as plt\n",
    "import numpy as np\n",
    "import pandas as pd\n",
    "from django.db.models.expressions import result"
   ],
   "outputs": [],
   "execution_count": null
  },
  {
   "metadata": {
    "ExecuteTime": {
     "end_time": "2025-05-15T15:36:50.644460Z",
     "start_time": "2025-05-15T15:36:50.369233Z"
    }
   },
   "cell_type": "code",
   "source": [
    "df = pd.read_csv('orders.csv')\n",
    "print(df.head())"
   ],
   "id": "f5cd16431451f0c3",
   "outputs": [
    {
     "name": "stdout",
     "output_type": "stream",
     "text": [
      "   ID_Order  ID_Customer  ID_Item    DateTime_CartFinalize  \\\n",
      "0   2714054       469662    21386  2015-10-15 08:50:56.000   \n",
      "1  11104039      3063877   248497  2018-02-11 00:29:26.000   \n",
      "2   4228130      3184893    50144  2016-06-14 00:30:08.000   \n",
      "3  22225624      6888562    70208  2018-09-03 14:37:19.000   \n",
      "4   4068771      2533490    67627  2016-05-21 11:51:02.000   \n",
      "\n",
      "   Amount_Gross_Order city_name_fa  Quantity_item  \n",
      "0            597982.0   محمود آباد            1.0  \n",
      "1            980000.0       خرمدره            1.0  \n",
      "2            229358.0         قرچک            1.0  \n",
      "3             16514.0           قم            1.0  \n",
      "4            133028.0        تهران            1.0  \n"
     ]
    }
   ],
   "execution_count": 28
  },
  {
   "metadata": {
    "ExecuteTime": {
     "end_time": "2025-05-15T15:46:26.967425Z",
     "start_time": "2025-05-15T15:46:26.932667Z"
    }
   },
   "cell_type": "code",
   "source": [
    "result = df.groupby(\"city_name_fa\")[\"Quantity_item\"].sum().reset_index()\n",
    "result_sorted = result.sort_values(by='Quantity_item', ascending=False)\n",
    "three_max_values = result_sorted.iloc[:3]\n",
    "three_min_values = result_sorted.iloc[-3:]\n",
    "\n",
    "print(three_max_values)\n",
    "print(three_min_values)"
   ],
   "id": "31ad093cfce5fef9",
   "outputs": [
    {
     "name": "stdout",
     "output_type": "stream",
     "text": [
      "    city_name_fa  Quantity_item\n",
      "215        تهران       136538.0\n",
      "654         مشهد         7698.0\n",
      "76        اصفهان         7552.0\n",
      "    city_name_fa  Quantity_item\n",
      "301    داود آباد            1.0\n",
      "545       فاریاب            1.0\n",
      "412    سراب ذهاب            1.0\n"
     ]
    }
   ],
   "execution_count": 29
  },
  {
   "metadata": {
    "ExecuteTime": {
     "end_time": "2025-05-15T16:02:56.461679Z",
     "start_time": "2025-05-15T16:02:56.279482Z"
    }
   },
   "cell_type": "code",
   "source": [
    "result2 = df.groupby(['ID_Item','city_name_fa'])['Quantity_item'].sum().reset_index()\n",
    "\n",
    "top_3_per_city = result2.groupby(\"city_name_fa\").head(3)\n",
    "print(top_3_per_city)\n",
    "\n",
    "\n",
    "\n"
   ],
   "id": "c0aa1c9247644166",
   "outputs": [
    {
     "name": "stdout",
     "output_type": "stream",
     "text": [
      "        ID_Item city_name_fa  Quantity_item\n",
      "0            76       سراوان            1.0\n",
      "1            82        تهران            1.0\n",
      "2            86        تهران            2.0\n",
      "3            86    خلیل آباد            1.0\n",
      "4            86          کرج            2.0\n",
      "...         ...          ...            ...\n",
      "145073  1637411       موسیان            1.0\n",
      "145301  1651793     غرق آباد            1.0\n",
      "145672  1679242      یاسوکند            1.0\n",
      "146203  1728912       گل تپه            1.0\n",
      "146618  1769394  نوده خاندوز            1.0\n",
      "\n",
      "[2344 rows x 3 columns]\n"
     ]
    }
   ],
   "execution_count": 30
  }
 ],
 "metadata": {
  "kernelspec": {
   "display_name": "Python 3",
   "language": "python",
   "name": "python3"
  },
  "language_info": {
   "codemirror_mode": {
    "name": "ipython",
    "version": 2
   },
   "file_extension": ".py",
   "mimetype": "text/x-python",
   "name": "python",
   "nbconvert_exporter": "python",
   "pygments_lexer": "ipython2",
   "version": "2.7.6"
  }
 },
 "nbformat": 4,
 "nbformat_minor": 5
}
