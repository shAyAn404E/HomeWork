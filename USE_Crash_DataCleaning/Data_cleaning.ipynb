{
  "nbformat": 4,
  "nbformat_minor": 0,
  "metadata": {
    "colab": {
      "provenance": [],
      "gpuType": "T4"
    },
    "kernelspec": {
      "name": "python3",
      "display_name": "Python 3"
    },
    "language_info": {
      "name": "python"
    },
    "accelerator": "GPU"
  },
  "cells": [
    {
      "metadata": {
        "id": "MPoRjDAYXKOM"
      },
      "cell_type": "markdown",
      "source": [
        "# Install and Load Libraries"
      ]
    },
    {
      "metadata": {
        "colab": {
          "base_uri": "https://localhost:8080/"
        },
        "id": "wV9ahOLQHC8r",
        "outputId": "706e3f04-4dce-4038-ae1e-a3d2510a64d5"
      },
      "cell_type": "code",
      "outputs": [
        {
          "output_type": "stream",
          "name": "stdout",
          "text": [
            "Cloning into 'rapidsai-csp-utils'...\n",
            "remote: Enumerating objects: 596, done.\u001b[K\n",
            "remote: Counting objects: 100% (162/162), done.\u001b[K\n",
            "remote: Compressing objects: 100% (80/80), done.\u001b[K\n",
            "remote: Total 596 (delta 128), reused 82 (delta 82), pack-reused 434 (from 3)\u001b[K\n",
            "Receiving objects: 100% (596/596), 195.77 KiB | 16.31 MiB/s, done.\n",
            "Resolving deltas: 100% (302/302), done.\n",
            "Installing RAPIDS remaining 25.04 libraries\n",
            "Using Python 3.11.13 environment at: /usr\n",
            "Resolved 173 packages in 11.32s\n",
            "Downloading bokeh (6.6MiB)\n",
            "Downloading dask (1.3MiB)\n",
            "Downloading shapely (2.4MiB)\n",
            "Downloading datashader (17.5MiB)\n",
            "Downloading cudf-cu12 (1.7MiB)\n",
            "Downloading cugraph-cu12 (3.0MiB)\n",
            "Downloading rmm-cu12 (1.5MiB)\n",
            "Downloading ucx-py-cu12 (2.2MiB)\n",
            "Downloading libcuspatial-cu12 (31.1MiB)\n",
            "Downloading libcuvs-cu12 (1.1GiB)\n",
            "Downloading pylibcudf-cu12 (26.4MiB)\n",
            "Downloading librmm-cu12 (2.9MiB)\n",
            "Downloading libcudf-cu12 (538.8MiB)\n",
            "Downloading libcugraph-cu12 (1.4GiB)\n",
            "Downloading cuspatial-cu12 (4.1MiB)\n",
            "Downloading raft-dask-cu12 (274.9MiB)\n",
            "Downloading cuml-cu12 (9.4MiB)\n",
            "Downloading pylibcugraph-cu12 (2.0MiB)\n",
            "Downloading cuproj-cu12 (1.1MiB)\n",
            "Downloading libkvikio-cu12 (2.0MiB)\n",
            "Downloading libcuml-cu12 (404.9MiB)\n",
            "Downloading libraft-cu12 (20.8MiB)\n",
            "Downloading cucim-cu12 (5.6MiB)\n",
            "Downloading libcuml-cu12 (404.9MiB)\n",
            "Downloading libcuvs-cu12 (1.1GiB)\n",
            "Downloading ucx-py-cu12 (2.2MiB)\n",
            "Downloading cuproj-cu12 (1.1MiB)\n",
            "Downloading cuspatial-cu12 (4.1MiB)\n",
            "Downloading libraft-cu12 (20.8MiB)\n",
            "Downloading raft-dask-cu12 (274.9MiB)\n",
            "Downloading cucim-cu12 (5.6MiB)\n",
            "Downloading cudf-cu12 (1.7MiB)\n",
            "Downloading pylibcudf-cu12 (26.4MiB)\n",
            "Downloading pylibcugraph-cu12 (2.0MiB)\n",
            "Downloading rmm-cu12 (1.5MiB)\n",
            "Downloading libcudf-cu12 (538.8MiB)\n",
            "Downloading libcugraph-cu12 (1.4GiB)\n",
            "Downloading libkvikio-cu12 (2.0MiB)\n",
            "Downloading cuml-cu12 (9.4MiB)\n",
            "Downloading cugraph-cu12 (3.0MiB)\n",
            "Downloading librmm-cu12 (2.9MiB)\n",
            " Downloaded cuproj-cu12\n",
            "Downloading libcuspatial-cu12 (31.1MiB)\n",
            " Downloaded ucx-py-cu12\n",
            " Downloaded shapely\n",
            " Downloaded datashader\n",
            " Downloaded cuspatial-cu12\n",
            " Downloaded libkvikio-cu12\n",
            " Downloaded dask\n",
            " Downloaded cudf-cu12\n",
            " Downloaded pylibcugraph-cu12\n",
            " Downloaded rmm-cu12\n",
            " Downloaded cucim-cu12\n",
            " Downloaded bokeh\n",
            " Downloaded cugraph-cu12\n",
            " Downloaded librmm-cu12\n",
            " Downloaded pylibcudf-cu12\n",
            " Downloaded cuml-cu12\n",
            " Downloaded libraft-cu12\n",
            " Downloaded libcuspatial-cu12\n",
            " Downloaded libcuml-cu12\n",
            " Downloaded raft-dask-cu12\n",
            " Downloaded libcudf-cu12\n",
            " Downloaded libcuvs-cu12\n",
            " Downloaded libcugraph-cu12\n",
            "Prepared 52 packages in 1m 20s\n",
            "Uninstalled 29 packages in 1.09s\n",
            "Installed 52 packages in 351ms\n",
            " + arrow==1.3.0\n",
            " - bokeh==3.7.3\n",
            " + bokeh==3.6.3\n",
            " + cucim-cu12==25.4.0\n",
            " - cudf-cu12==25.2.1 (from https://pypi.nvidia.com/cudf-cu12/cudf_cu12-25.2.1-cp311-cp311-manylinux_2_24_x86_64.manylinux_2_28_x86_64.whl)\n",
            " + cudf-cu12==25.4.0\n",
            " + cugraph-cu12==25.4.1\n",
            " - cuml-cu12==25.2.1\n",
            " + cuml-cu12==25.4.0\n",
            " + cuproj-cu12==25.4.0\n",
            " + cuspatial-cu12==25.4.0\n",
            " - cuvs-cu12==25.2.1\n",
            " + cuvs-cu12==25.4.0\n",
            " + cuxfilter-cu12==25.4.0\n",
            " - dask==2024.12.1\n",
            " + dask==2025.2.0\n",
            " - dask-cuda==25.2.0\n",
            " + dask-cuda==25.4.0\n",
            " - dask-cudf-cu12==25.2.2\n",
            " + dask-cudf-cu12==25.4.0\n",
            " + datashader==0.18.1\n",
            " - distributed==2024.12.1\n",
            " + distributed==2025.2.0\n",
            " - distributed-ucxx-cu12==0.42.0\n",
            " + distributed-ucxx-cu12==0.43.0\n",
            " + fqdn==1.5.1\n",
            " + isoduration==20.11.0\n",
            " - jupyter-client==6.1.12\n",
            " + jupyter-client==8.6.3\n",
            " + jupyter-events==0.12.0\n",
            " - jupyter-server==1.16.0\n",
            " + jupyter-server==2.16.0\n",
            " + jupyter-server-proxy==4.4.0\n",
            " + jupyter-server-terminals==0.5.3\n",
            " - libcudf-cu12==25.2.1 (from https://pypi.nvidia.com/libcudf-cu12/libcudf_cu12-25.2.1-py3-none-manylinux_2_28_x86_64.whl)\n",
            " + libcudf-cu12==25.4.0\n",
            " - libcugraph-cu12==25.2.0\n",
            " + libcugraph-cu12==25.4.1\n",
            " - libcuml-cu12==25.2.1\n",
            " + libcuml-cu12==25.4.0\n",
            " + libcuspatial-cu12==25.4.0\n",
            " - libcuvs-cu12==25.2.1\n",
            " + libcuvs-cu12==25.4.0\n",
            " - libkvikio-cu12==25.2.1\n",
            " + libkvikio-cu12==25.4.0\n",
            " - libraft-cu12==25.2.0\n",
            " + libraft-cu12==25.4.0\n",
            " + librmm-cu12==25.4.0\n",
            " - libucxx-cu12==0.42.0\n",
            " + libucxx-cu12==0.43.0\n",
            " - numba-cuda==0.2.0\n",
            " + numba-cuda==0.4.0\n",
            " - nx-cugraph-cu12==25.2.0 (from https://pypi.nvidia.com/nx-cugraph-cu12/nx_cugraph_cu12-25.2.0-py3-none-any.whl)\n",
            " + nx-cugraph-cu12==25.4.0\n",
            " + overrides==7.7.0\n",
            " + pyct==0.5.0\n",
            " - pylibcudf-cu12==25.2.1 (from https://pypi.nvidia.com/pylibcudf-cu12/pylibcudf_cu12-25.2.1-cp311-cp311-manylinux_2_24_x86_64.manylinux_2_28_x86_64.whl)\n",
            " + pylibcudf-cu12==25.4.0\n",
            " - pylibcugraph-cu12==25.2.0\n",
            " + pylibcugraph-cu12==25.4.1\n",
            " - pylibraft-cu12==25.2.0\n",
            " + pylibraft-cu12==25.4.0\n",
            " + python-json-logger==3.3.0\n",
            " - raft-dask-cu12==25.2.0\n",
            " + raft-dask-cu12==25.4.0\n",
            " - rapids-dask-dependency==25.2.0\n",
            " + rapids-dask-dependency==25.4.0\n",
            " + rapids-logger==0.1.1\n",
            " + rfc3339-validator==0.1.4\n",
            " + rfc3986-validator==0.1.1\n",
            " - rmm-cu12==25.2.0\n",
            " + rmm-cu12==25.4.0\n",
            " - shapely==2.1.1\n",
            " + shapely==2.0.7\n",
            " + simpervisor==1.0.0\n",
            " + types-python-dateutil==2.9.0.20250516\n",
            " - ucx-py-cu12==0.42.0\n",
            " + ucx-py-cu12==0.43.0\n",
            " - ucxx-cu12==0.42.0\n",
            " + ucxx-cu12==0.43.0\n",
            " + uri-template==1.3.0\n",
            "\n",
            "        ***********************************************************************\n",
            "        The pip install of RAPIDS is complete.\n",
            "\n",
            "        Please do not run any further installation from the conda based installation methods, as they may cause issues!\n",
            "\n",
            "        Please ensure that you're pulling from the git repo to remain updated with the latest working install scripts.\n",
            "\n",
            "        Troubleshooting:\n",
            "            - If there is an installation failure, please check back on RAPIDSAI owned templates/notebooks to see how to update your personal files.\n",
            "            - If an installation failure persists when using the latest script, please make an issue on https://github.com/rapidsai-community/rapidsai-csp-utils\n",
            "        ***********************************************************************\n",
            "        \n"
          ]
        }
      ],
      "execution_count": 1,
      "source": [
        "!git clone https://github.com/rapidsai/rapidsai-csp-utils.git\n",
        "!python rapidsai-csp-utils/colab/pip-install.py"
      ]
    },
    {
      "cell_type": "code",
      "source": [
        "!pip install kaggle --quiet"
      ],
      "metadata": {
        "id": "OoNzM9phIL2x"
      },
      "execution_count": 2,
      "outputs": []
    },
    {
      "cell_type": "code",
      "source": [
        "!mkdir ~/.kaggle\n",
        "!cp kaggle.json ~/.kaggle/\n",
        "!chmod 600 ~/.kaggle/kaggle.json"
      ],
      "metadata": {
        "id": "2K63QtceIQHp"
      },
      "execution_count": 5,
      "outputs": []
    },
    {
      "cell_type": "code",
      "source": [
        "!kaggle datasets download -d sobhanmoosavi/us-accidents"
      ],
      "metadata": {
        "colab": {
          "base_uri": "https://localhost:8080/"
        },
        "id": "DROCRx-OIXAR",
        "outputId": "a5f4cff0-5fdd-48cd-e077-79e0afd26da9"
      },
      "execution_count": 6,
      "outputs": [
        {
          "output_type": "stream",
          "name": "stdout",
          "text": [
            "Dataset URL: https://www.kaggle.com/datasets/sobhanmoosavi/us-accidents\n",
            "License(s): CC-BY-NC-SA-4.0\n",
            "Downloading us-accidents.zip to /content\n",
            " 96% 629M/653M [00:12<00:01, 12.9MB/s]\n",
            "100% 653M/653M [00:12<00:00, 55.4MB/s]\n"
          ]
        }
      ]
    },
    {
      "cell_type": "code",
      "source": [
        "!unzip us-accidents.zip"
      ],
      "metadata": {
        "colab": {
          "base_uri": "https://localhost:8080/"
        },
        "id": "YVC3bYgeIhu4",
        "outputId": "56e1da02-4551-469d-fcd4-45f76ae4b02a"
      },
      "execution_count": 7,
      "outputs": [
        {
          "output_type": "stream",
          "name": "stdout",
          "text": [
            "Archive:  us-accidents.zip\n",
            "  inflating: US_Accidents_March23.csv  \n"
          ]
        }
      ]
    },
    {
      "cell_type": "code",
      "source": [
        "import cudf\n",
        "cudf.__version__"
      ],
      "metadata": {
        "colab": {
          "base_uri": "https://localhost:8080/",
          "height": 36
        },
        "id": "u2U8gPywJQdP",
        "outputId": "06ed25f0-3b71-40c9-edfb-1a8579d9b759"
      },
      "execution_count": 8,
      "outputs": [
        {
          "output_type": "execute_result",
          "data": {
            "text/plain": [
              "'25.04.00'"
            ],
            "application/vnd.google.colaboratory.intrinsic+json": {
              "type": "string"
            }
          },
          "metadata": {},
          "execution_count": 8
        }
      ]
    },
    {
      "metadata": {
        "id": "_vur3IeQXKOQ"
      },
      "cell_type": "markdown",
      "source": [
        "# Data Extraction"
      ]
    },
    {
      "metadata": {
        "id": "GjiAgnJkJZ-n"
      },
      "cell_type": "code",
      "outputs": [],
      "execution_count": 9,
      "source": [
        "import cudf\n",
        "\n",
        "df = cudf.read_csv(\"/content/US_Accidents_March23.csv\")"
      ]
    },
    {
      "cell_type": "code",
      "source": [
        "df.info()"
      ],
      "metadata": {
        "colab": {
          "base_uri": "https://localhost:8080/"
        },
        "id": "bKHxXxGiJfhR",
        "outputId": "cead948c-9e92-49ef-81e3-fa0ec01fccd6"
      },
      "execution_count": null,
      "outputs": [
        {
          "output_type": "stream",
          "name": "stdout",
          "text": [
            "<class 'cudf.core.dataframe.DataFrame'>\n",
            "RangeIndex: 7728394 entries, 0 to 7728393\n",
            "Data columns (total 46 columns):\n",
            " #   Column                 Dtype\n",
            "---  ------                 -----\n",
            " 0   ID                     object\n",
            " 1   Source                 object\n",
            " 2   Severity               int64\n",
            " 3   Start_Time             object\n",
            " 4   End_Time               object\n",
            " 5   Start_Lat              float64\n",
            " 6   Start_Lng              float64\n",
            " 7   End_Lat                float64\n",
            " 8   End_Lng                float64\n",
            " 9   Distance(mi)           float64\n",
            " 10  Description            object\n",
            " 11  Street                 object\n",
            " 12  City                   object\n",
            " 13  County                 object\n",
            " 14  State                  object\n",
            " 15  Zipcode                object\n",
            " 16  Country                object\n",
            " 17  Timezone               object\n",
            " 18  Airport_Code           object\n",
            " 19  Weather_Timestamp      object\n",
            " 20  Temperature(F)         float64\n",
            " 21  Wind_Chill(F)          float64\n",
            " 22  Humidity(%)            float64\n",
            " 23  Pressure(in)           float64\n",
            " 24  Visibility(mi)         float64\n",
            " 25  Wind_Direction         object\n",
            " 26  Wind_Speed(mph)        float64\n",
            " 27  Precipitation(in)      float64\n",
            " 28  Weather_Condition      object\n",
            " 29  Amenity                bool\n",
            " 30  Bump                   bool\n",
            " 31  Crossing               bool\n",
            " 32  Give_Way               bool\n",
            " 33  Junction               bool\n",
            " 34  No_Exit                bool\n",
            " 35  Railway                bool\n",
            " 36  Roundabout             bool\n",
            " 37  Station                bool\n",
            " 38  Stop                   bool\n",
            " 39  Traffic_Calming        bool\n",
            " 40  Traffic_Signal         bool\n",
            " 41  Turning_Loop           bool\n",
            " 42  Sunrise_Sunset         object\n",
            " 43  Civil_Twilight         object\n",
            " 44  Nautical_Twilight      object\n",
            " 45  Astronomical_Twilight  object\n",
            "dtypes: bool(13), float64(12), int64(1), object(20)\n",
            "memory usage: 3.0+ GB\n"
          ]
        }
      ]
    },
    {
      "cell_type": "code",
      "source": [
        "df.describe()"
      ],
      "metadata": {
        "colab": {
          "base_uri": "https://localhost:8080/",
          "height": 320
        },
        "id": "FEltpFCRJjrX",
        "outputId": "6f6a4a78-1c95-4a06-aa87-93140a64d7c1"
      },
      "execution_count": 10,
      "outputs": [
        {
          "output_type": "execute_result",
          "data": {
            "text/plain": [
              "           Severity     Start_Lat     Start_Lng       End_Lat       End_Lng  \\\n",
              "count  7.728394e+06  7.728394e+06  7.728394e+06  4.325632e+06  4.325632e+06   \n",
              "mean   2.212384e+00  3.620119e+01 -9.470255e+01  3.626183e+01 -9.572557e+01   \n",
              "std    4.875310e-01  5.076079e+00  1.739176e+01  5.272905e+00  1.810793e+01   \n",
              "min    1.000000e+00  2.455480e+01 -1.246238e+02  2.456601e+01 -1.245457e+02   \n",
              "25%    2.000000e+00  3.339963e+01 -1.172194e+02  3.346207e+01 -1.177543e+02   \n",
              "50%    2.000000e+00  3.582397e+01 -8.776662e+01  3.618350e+01 -8.802789e+01   \n",
              "75%    2.000000e+00  4.008496e+01 -8.035368e+01  4.017892e+01 -8.024709e+01   \n",
              "max    4.000000e+00  4.900220e+01 -6.711317e+01  4.907500e+01 -6.710924e+01   \n",
              "\n",
              "       Distance(mi)  Temperature(F)  Wind_Chill(F)   Humidity(%)  \\\n",
              "count  7.728394e+06    7.564541e+06   5.729375e+06  7.554250e+06   \n",
              "mean   5.618420e-01    6.166329e+01   5.825105e+01  6.483104e+01   \n",
              "std    1.776811e+00    1.901365e+01   2.238983e+01  2.282097e+01   \n",
              "min    0.000000e+00   -8.900000e+01  -8.900000e+01  1.000000e+00   \n",
              "25%    0.000000e+00    4.900000e+01   4.300000e+01  4.800000e+01   \n",
              "50%    3.000000e-02    6.400000e+01   6.200000e+01  6.700000e+01   \n",
              "75%    4.640000e-01    7.600000e+01   7.500000e+01  8.400000e+01   \n",
              "max    4.417500e+02    2.070000e+02   2.070000e+02  1.000000e+02   \n",
              "\n",
              "       Pressure(in)  Visibility(mi)  Wind_Speed(mph)  Precipitation(in)  \n",
              "count  7.587715e+06    7.551296e+06     7.157161e+06       5.524808e+06  \n",
              "mean   2.953899e+01    9.090376e+00     7.685490e+00       8.407000e-03  \n",
              "std    1.006190e+00    2.688316e+00     5.424983e+00       1.102250e-01  \n",
              "min    0.000000e+00    0.000000e+00     0.000000e+00       0.000000e+00  \n",
              "25%    2.937000e+01    1.000000e+01     4.600000e+00       0.000000e+00  \n",
              "50%    2.986000e+01    1.000000e+01     7.000000e+00       0.000000e+00  \n",
              "75%    3.003000e+01    1.000000e+01     1.040000e+01       0.000000e+00  \n",
              "max    5.863000e+01    1.400000e+02     1.087000e+03       3.647000e+01  "
            ],
            "text/html": [
              "<div>\n",
              "<style scoped>\n",
              "    .dataframe tbody tr th:only-of-type {\n",
              "        vertical-align: middle;\n",
              "    }\n",
              "\n",
              "    .dataframe tbody tr th {\n",
              "        vertical-align: top;\n",
              "    }\n",
              "\n",
              "    .dataframe thead th {\n",
              "        text-align: right;\n",
              "    }\n",
              "</style>\n",
              "<table border=\"1\" class=\"dataframe\">\n",
              "  <thead>\n",
              "    <tr style=\"text-align: right;\">\n",
              "      <th></th>\n",
              "      <th>Severity</th>\n",
              "      <th>Start_Lat</th>\n",
              "      <th>Start_Lng</th>\n",
              "      <th>End_Lat</th>\n",
              "      <th>End_Lng</th>\n",
              "      <th>Distance(mi)</th>\n",
              "      <th>Temperature(F)</th>\n",
              "      <th>Wind_Chill(F)</th>\n",
              "      <th>Humidity(%)</th>\n",
              "      <th>Pressure(in)</th>\n",
              "      <th>Visibility(mi)</th>\n",
              "      <th>Wind_Speed(mph)</th>\n",
              "      <th>Precipitation(in)</th>\n",
              "    </tr>\n",
              "  </thead>\n",
              "  <tbody>\n",
              "    <tr>\n",
              "      <th>count</th>\n",
              "      <td>7.728394e+06</td>\n",
              "      <td>7.728394e+06</td>\n",
              "      <td>7.728394e+06</td>\n",
              "      <td>4.325632e+06</td>\n",
              "      <td>4.325632e+06</td>\n",
              "      <td>7.728394e+06</td>\n",
              "      <td>7.564541e+06</td>\n",
              "      <td>5.729375e+06</td>\n",
              "      <td>7.554250e+06</td>\n",
              "      <td>7.587715e+06</td>\n",
              "      <td>7.551296e+06</td>\n",
              "      <td>7.157161e+06</td>\n",
              "      <td>5.524808e+06</td>\n",
              "    </tr>\n",
              "    <tr>\n",
              "      <th>mean</th>\n",
              "      <td>2.212384e+00</td>\n",
              "      <td>3.620119e+01</td>\n",
              "      <td>-9.470255e+01</td>\n",
              "      <td>3.626183e+01</td>\n",
              "      <td>-9.572557e+01</td>\n",
              "      <td>5.618420e-01</td>\n",
              "      <td>6.166329e+01</td>\n",
              "      <td>5.825105e+01</td>\n",
              "      <td>6.483104e+01</td>\n",
              "      <td>2.953899e+01</td>\n",
              "      <td>9.090376e+00</td>\n",
              "      <td>7.685490e+00</td>\n",
              "      <td>8.407000e-03</td>\n",
              "    </tr>\n",
              "    <tr>\n",
              "      <th>std</th>\n",
              "      <td>4.875310e-01</td>\n",
              "      <td>5.076079e+00</td>\n",
              "      <td>1.739176e+01</td>\n",
              "      <td>5.272905e+00</td>\n",
              "      <td>1.810793e+01</td>\n",
              "      <td>1.776811e+00</td>\n",
              "      <td>1.901365e+01</td>\n",
              "      <td>2.238983e+01</td>\n",
              "      <td>2.282097e+01</td>\n",
              "      <td>1.006190e+00</td>\n",
              "      <td>2.688316e+00</td>\n",
              "      <td>5.424983e+00</td>\n",
              "      <td>1.102250e-01</td>\n",
              "    </tr>\n",
              "    <tr>\n",
              "      <th>min</th>\n",
              "      <td>1.000000e+00</td>\n",
              "      <td>2.455480e+01</td>\n",
              "      <td>-1.246238e+02</td>\n",
              "      <td>2.456601e+01</td>\n",
              "      <td>-1.245457e+02</td>\n",
              "      <td>0.000000e+00</td>\n",
              "      <td>-8.900000e+01</td>\n",
              "      <td>-8.900000e+01</td>\n",
              "      <td>1.000000e+00</td>\n",
              "      <td>0.000000e+00</td>\n",
              "      <td>0.000000e+00</td>\n",
              "      <td>0.000000e+00</td>\n",
              "      <td>0.000000e+00</td>\n",
              "    </tr>\n",
              "    <tr>\n",
              "      <th>25%</th>\n",
              "      <td>2.000000e+00</td>\n",
              "      <td>3.339963e+01</td>\n",
              "      <td>-1.172194e+02</td>\n",
              "      <td>3.346207e+01</td>\n",
              "      <td>-1.177543e+02</td>\n",
              "      <td>0.000000e+00</td>\n",
              "      <td>4.900000e+01</td>\n",
              "      <td>4.300000e+01</td>\n",
              "      <td>4.800000e+01</td>\n",
              "      <td>2.937000e+01</td>\n",
              "      <td>1.000000e+01</td>\n",
              "      <td>4.600000e+00</td>\n",
              "      <td>0.000000e+00</td>\n",
              "    </tr>\n",
              "    <tr>\n",
              "      <th>50%</th>\n",
              "      <td>2.000000e+00</td>\n",
              "      <td>3.582397e+01</td>\n",
              "      <td>-8.776662e+01</td>\n",
              "      <td>3.618350e+01</td>\n",
              "      <td>-8.802789e+01</td>\n",
              "      <td>3.000000e-02</td>\n",
              "      <td>6.400000e+01</td>\n",
              "      <td>6.200000e+01</td>\n",
              "      <td>6.700000e+01</td>\n",
              "      <td>2.986000e+01</td>\n",
              "      <td>1.000000e+01</td>\n",
              "      <td>7.000000e+00</td>\n",
              "      <td>0.000000e+00</td>\n",
              "    </tr>\n",
              "    <tr>\n",
              "      <th>75%</th>\n",
              "      <td>2.000000e+00</td>\n",
              "      <td>4.008496e+01</td>\n",
              "      <td>-8.035368e+01</td>\n",
              "      <td>4.017892e+01</td>\n",
              "      <td>-8.024709e+01</td>\n",
              "      <td>4.640000e-01</td>\n",
              "      <td>7.600000e+01</td>\n",
              "      <td>7.500000e+01</td>\n",
              "      <td>8.400000e+01</td>\n",
              "      <td>3.003000e+01</td>\n",
              "      <td>1.000000e+01</td>\n",
              "      <td>1.040000e+01</td>\n",
              "      <td>0.000000e+00</td>\n",
              "    </tr>\n",
              "    <tr>\n",
              "      <th>max</th>\n",
              "      <td>4.000000e+00</td>\n",
              "      <td>4.900220e+01</td>\n",
              "      <td>-6.711317e+01</td>\n",
              "      <td>4.907500e+01</td>\n",
              "      <td>-6.710924e+01</td>\n",
              "      <td>4.417500e+02</td>\n",
              "      <td>2.070000e+02</td>\n",
              "      <td>2.070000e+02</td>\n",
              "      <td>1.000000e+02</td>\n",
              "      <td>5.863000e+01</td>\n",
              "      <td>1.400000e+02</td>\n",
              "      <td>1.087000e+03</td>\n",
              "      <td>3.647000e+01</td>\n",
              "    </tr>\n",
              "  </tbody>\n",
              "</table>\n",
              "</div>"
            ]
          },
          "metadata": {},
          "execution_count": 10
        }
      ]
    },
    {
      "cell_type": "markdown",
      "source": [
        "### drop columns"
      ],
      "metadata": {
        "id": "tYEVRe-cbqYU"
      }
    },
    {
      "metadata": {
        "id": "KrnCs6UKXKOS"
      },
      "cell_type": "code",
      "outputs": [],
      "execution_count": 11,
      "source": [
        "# df[\"Country\"].unique()\n",
        "\n",
        "df.drop(columns=[\"Country\",\"ID\",\"Description\"], inplace=True)\n",
        "\n"
      ]
    },
    {
      "cell_type": "markdown",
      "source": [
        "# bool to num\n",
        "# cheang astype to uint8"
      ],
      "metadata": {
        "id": "J2SSw2_bb6Yg"
      }
    },
    {
      "cell_type": "code",
      "source": [
        "import numpy as np"
      ],
      "metadata": {
        "id": "mfaAgVZRdTds"
      },
      "execution_count": 12,
      "outputs": []
    },
    {
      "cell_type": "code",
      "source": [
        "bull_cilumes = [\"Severity\",\"Humidity(%)\",\"Amenity\",\"Turning_Loop\",\"Bump\",\"Crossing\",\"Give_Way\",\"Junction\",\"No_Exit\",\"Railway\",\"Roundabout\",\"Station\",\"Stop\",\"Traffic_Calming\",\"Traffic_Signal\"]\n",
        "for cul in bull_cilumes:\n",
        "   df[cul] = df[cul].astype(np.uint8)\n",
        "df.info()"
      ],
      "metadata": {
        "colab": {
          "base_uri": "https://localhost:8080/"
        },
        "id": "hg4tysvQcAnv",
        "outputId": "e556801a-e495-4d8b-9f66-6059cf66f7f3"
      },
      "execution_count": 38,
      "outputs": [
        {
          "output_type": "stream",
          "name": "stdout",
          "text": [
            "<class 'cudf.core.dataframe.DataFrame'>\n",
            "RangeIndex: 7728394 entries, 0 to 7728393\n",
            "Data columns (total 43 columns):\n",
            " #   Column                 Dtype\n",
            "---  ------                 -----\n",
            " 0   Source                 object\n",
            " 1   Severity               uint8\n",
            " 2   Start_Time             object\n",
            " 3   End_Time               object\n",
            " 4   Start_Lat              float32\n",
            " 5   Start_Lng              float32\n",
            " 6   End_Lat                float32\n",
            " 7   End_Lng                float32\n",
            " 8   Distance(mi)           float32\n",
            " 9   Street                 uint32\n",
            " 10  City                   uint16\n",
            " 11  County                 uint16\n",
            " 12  State                  uint8\n",
            " 13  Zipcode                object\n",
            " 14  Timezone               object\n",
            " 15  Airport_Code           object\n",
            " 16  Weather_Timestamp      object\n",
            " 17  Temperature(F)         float32\n",
            " 18  Wind_Chill(F)          float32\n",
            " 19  Humidity(%)            uint8\n",
            " 20  Pressure(in)           float32\n",
            " 21  Visibility(mi)         float32\n",
            " 22  Wind_Direction         object\n",
            " 23  Wind_Speed(mph)        float32\n",
            " 24  Precipitation(in)      float32\n",
            " 25  Weather_Condition      object\n",
            " 26  Amenity                uint8\n",
            " 27  Bump                   uint8\n",
            " 28  Crossing               uint8\n",
            " 29  Give_Way               uint8\n",
            " 30  Junction               uint8\n",
            " 31  No_Exit                uint8\n",
            " 32  Railway                uint8\n",
            " 33  Roundabout             uint8\n",
            " 34  Station                uint8\n",
            " 35  Stop                   uint8\n",
            " 36  Traffic_Calming        uint8\n",
            " 37  Traffic_Signal         uint8\n",
            " 38  Turning_Loop           uint8\n",
            " 39  Sunrise_Sunset         uint8\n",
            " 40  Civil_Twilight         uint8\n",
            " 41  Nautical_Twilight      uint8\n",
            " 42  Astronomical_Twilight  uint8\n",
            "dtypes: float32(11), object(9), uint16(2), uint32(1), uint8(20)\n",
            "memory usage: 1.5+ GB\n"
          ]
        }
      ]
    },
    {
      "cell_type": "markdown",
      "source": [
        "#citi change"
      ],
      "metadata": {
        "id": "xxLW58eOfYOp"
      }
    },
    {
      "cell_type": "code",
      "source": [
        "import sklearn"
      ],
      "metadata": {
        "id": "rdCaLzgEgDU8"
      },
      "execution_count": 14,
      "outputs": []
    },
    {
      "cell_type": "code",
      "source": [
        "df[\"County\"].unique()"
      ],
      "metadata": {
        "colab": {
          "base_uri": "https://localhost:8080/"
        },
        "id": "MfNmQTCnhv-_",
        "outputId": "cedf7910-fea8-48a4-e8ca-9bb04e8e73cf"
      },
      "execution_count": 15,
      "outputs": [
        {
          "output_type": "execute_result",
          "data": {
            "text/plain": [
              "0       Montgomery\n",
              "1         Franklin\n",
              "2         Clermont\n",
              "3          Licking\n",
              "4        Fairfield\n",
              "           ...    \n",
              "1866        Mcminn\n",
              "1867      Glascock\n",
              "1868         Woods\n",
              "1869      Mellette\n",
              "1870          Ness\n",
              "Name: County, Length: 1871, dtype: object"
            ]
          },
          "metadata": {},
          "execution_count": 15
        }
      ]
    },
    {
      "cell_type": "code",
      "source": [
        "from sklearn.preprocessing import LabelEncoder\n",
        "\n",
        "encoder = LabelEncoder()\n",
        "item = [\"Street\",\"City\",\"County\",\"State\"]\n",
        "for i in item:\n",
        "  df[i] = encoder.fit_transform(df[i].to_numpy())\n",
        "\n"
      ],
      "metadata": {
        "id": "URbpKY4PfliL"
      },
      "execution_count": 16,
      "outputs": []
    },
    {
      "cell_type": "code",
      "source": [
        "df[\"State\"] = df[\"State\"].astype(np.uint8)\n",
        "df[\"County\"] = df[\"County\"].astype(np.uint16)\n",
        "df[\"City\"] = df[\"City\"].astype(np.uint16)\n",
        "df[\"Street\"] = df[\"Street\"].astype(np.uint32)"
      ],
      "metadata": {
        "id": "MZ1ibLrXjaV7"
      },
      "execution_count": 17,
      "outputs": []
    },
    {
      "cell_type": "markdown",
      "source": [
        "# Twilight"
      ],
      "metadata": {
        "id": "Vctd1qLLoR56"
      }
    },
    {
      "cell_type": "code",
      "source": [
        "l = [\"Sunrise_Sunset\",\"Civil_Twilight\",\"Nautical_Twilight\",\"Astronomical_Twilight\"]\n",
        "for i in l:\n",
        "  df[i] = encoder.fit_transform(df[i].to_numpy()).astype(np.uint8)"
      ],
      "metadata": {
        "id": "RCidOxbaoYgN"
      },
      "execution_count": 18,
      "outputs": []
    },
    {
      "cell_type": "code",
      "source": [
        "#df[\"Weather_Condition\"].value_counts()\n",
        "df[\"Weather_Timestamp\"].head(20)"
      ],
      "metadata": {
        "colab": {
          "base_uri": "https://localhost:8080/"
        },
        "id": "iAa1i_zh0bHI",
        "outputId": "ba486491-f14a-4616-fb4e-af787c8e5145"
      },
      "execution_count": 68,
      "outputs": [
        {
          "output_type": "execute_result",
          "data": {
            "text/plain": [
              "0     2016-02-08 05:58:00\n",
              "1     2016-02-08 05:51:00\n",
              "2     2016-02-08 06:56:00\n",
              "3     2016-02-08 07:38:00\n",
              "4     2016-02-08 07:53:00\n",
              "5     2016-02-08 07:51:00\n",
              "6     2016-02-08 07:56:00\n",
              "7     2016-02-08 07:56:00\n",
              "8     2016-02-08 07:58:00\n",
              "9     2016-02-08 08:28:00\n",
              "10    2016-02-08 07:50:00\n",
              "11    2016-02-08 08:28:00\n",
              "12    2016-02-08 08:28:00\n",
              "13    2016-02-08 08:56:00\n",
              "14    2016-02-08 08:28:00\n",
              "15    2016-02-08 08:28:00\n",
              "16    2016-02-08 08:58:00\n",
              "17    2016-02-08 08:56:00\n",
              "18    2016-02-08 09:38:00\n",
              "19    2016-02-08 09:56:00\n",
              "Name: Weather_Timestamp, dtype: object"
            ]
          },
          "metadata": {},
          "execution_count": 68
        }
      ]
    },
    {
      "cell_type": "markdown",
      "source": [
        "# some maping"
      ],
      "metadata": {
        "id": "GUsjDmNh4qhY"
      }
    },
    {
      "cell_type": "code",
      "source": [
        "df[\"Source\"] = df[\"Source\"].map({\"Source1\":1, \"Source2\":2, \"Source3\":3})\n",
        "\n",
        "df[\"Timezone\"] = df[\"Timezone\"].map({\"US/Eastern\":1, \"US/Pacific\":2, \"US/Central\":3, \"US/Mountain\":4})\n",
        "\n",
        "\n",
        "for cul in [\"Source\",\"Timezone\"]:\n",
        "  df[cul] = df[cul].astype(np.uint8)\n",
        "\n",
        "\n"
      ],
      "metadata": {
        "id": "wraiW_064tmv"
      },
      "execution_count": 62,
      "outputs": []
    },
    {
      "cell_type": "markdown",
      "source": [
        "# weder\n",
        "#cheange astype to float32"
      ],
      "metadata": {
        "id": "2rVbKS1ojycD"
      }
    },
    {
      "cell_type": "code",
      "source": [
        "Gi = [\"Wind_Speed(mph)\",\"Precipitation(in)\",\"Start_Lat\",\"Start_Lng\",\"End_Lat\",\"End_Lng\",\"Distance(mi)\",\"Temperature(F)\",\"Wind_Chill(F)\",\"Pressure(in)\",\"Visibility(mi)\"]\n",
        "for cul in Gi:\n",
        "  df[cul] = df[cul].astype(np.float32)"
      ],
      "metadata": {
        "id": "7e6o9-ORkeAk"
      },
      "execution_count": 39,
      "outputs": []
    },
    {
      "cell_type": "code",
      "source": [
        "df.info()"
      ],
      "metadata": {
        "colab": {
          "base_uri": "https://localhost:8080/"
        },
        "id": "6ftAT2eo0Y1j",
        "outputId": "21aca965-3708-4f4f-cecf-589d0a8c3805"
      },
      "execution_count": 80,
      "outputs": [
        {
          "output_type": "stream",
          "name": "stdout",
          "text": [
            "<class 'cudf.core.dataframe.DataFrame'>\n",
            "RangeIndex: 7728394 entries, 0 to 7728393\n",
            "Data columns (total 43 columns):\n",
            " #   Column                 Dtype\n",
            "---  ------                 -----\n",
            " 0   Source                 uint8\n",
            " 1   Severity               uint8\n",
            " 2   Start_Time             object\n",
            " 3   End_Time               object\n",
            " 4   Start_Lat              float32\n",
            " 5   Start_Lng              float32\n",
            " 6   End_Lat                float32\n",
            " 7   End_Lng                float32\n",
            " 8   Distance(mi)           float32\n",
            " 9   Street                 uint32\n",
            " 10  City                   uint16\n",
            " 11  County                 uint16\n",
            " 12  State                  uint8\n",
            " 13  Zipcode                object\n",
            " 14  Timezone               uint8\n",
            " 15  Airport_Code           object\n",
            " 16  Weather_Timestamp      object\n",
            " 17  Temperature(F)         float32\n",
            " 18  Wind_Chill(F)          float32\n",
            " 19  Humidity(%)            uint8\n",
            " 20  Pressure(in)           float32\n",
            " 21  Visibility(mi)         float32\n",
            " 22  Wind_Direction         object\n",
            " 23  Wind_Speed(mph)        float32\n",
            " 24  Precipitation(in)      float32\n",
            " 25  Weather_Condition      object\n",
            " 26  Amenity                uint8\n",
            " 27  Bump                   uint8\n",
            " 28  Crossing               uint8\n",
            " 29  Give_Way               uint8\n",
            " 30  Junction               uint8\n",
            " 31  No_Exit                uint8\n",
            " 32  Railway                uint8\n",
            " 33  Roundabout             uint8\n",
            " 34  Station                uint8\n",
            " 35  Stop                   uint8\n",
            " 36  Traffic_Calming        uint8\n",
            " 37  Traffic_Signal         uint8\n",
            " 38  Turning_Loop           uint8\n",
            " 39  Sunrise_Sunset         uint8\n",
            " 40  Civil_Twilight         uint8\n",
            " 41  Nautical_Twilight      uint8\n",
            " 42  Astronomical_Twilight  uint8\n",
            "dtypes: float32(11), object(7), uint16(2), uint32(1), uint8(22)\n",
            "memory usage: 1.3+ GB\n"
          ]
        }
      ]
    },
    {
      "cell_type": "markdown",
      "source": [
        "# To Date time"
      ],
      "metadata": {
        "id": "YlpRf6v47cS_"
      }
    },
    {
      "cell_type": "code",
      "source": [
        "import pandas as pd"
      ],
      "metadata": {
        "id": "YwVnSGELA4wH"
      },
      "execution_count": 76,
      "outputs": []
    },
    {
      "cell_type": "code",
      "source": [
        "cols = [\"Start_Time\",\"End_Time\",\"Weather_Timestamp\"]\n",
        "\n",
        "for col in cols:\n",
        "  df[cul] = df[cul].astype(np.datetime64)\n"
      ],
      "metadata": {
        "colab": {
          "base_uri": "https://localhost:8080/",
          "height": 333
        },
        "id": "L9CGPtdq7b0C",
        "outputId": "9eb4f504-79be-498c-e482-56b1eff83b27"
      },
      "execution_count": 79,
      "outputs": [
        {
          "output_type": "error",
          "ename": "TypeError",
          "evalue": "Unsupported type datetime64",
          "traceback": [
            "\u001b[0;31m---------------------------------------------------------------------------\u001b[0m",
            "\u001b[0;31mTypeError\u001b[0m                                 Traceback (most recent call last)",
            "\u001b[0;32m<ipython-input-79-2199075127>\u001b[0m in \u001b[0;36m<cell line: 0>\u001b[0;34m()\u001b[0m\n\u001b[1;32m      2\u001b[0m \u001b[0;34m\u001b[0m\u001b[0m\n\u001b[1;32m      3\u001b[0m \u001b[0;32mfor\u001b[0m \u001b[0mcol\u001b[0m \u001b[0;32min\u001b[0m \u001b[0mcols\u001b[0m\u001b[0;34m:\u001b[0m\u001b[0;34m\u001b[0m\u001b[0;34m\u001b[0m\u001b[0m\n\u001b[0;32m----> 4\u001b[0;31m   \u001b[0mdf\u001b[0m\u001b[0;34m[\u001b[0m\u001b[0mcul\u001b[0m\u001b[0;34m]\u001b[0m \u001b[0;34m=\u001b[0m \u001b[0mdf\u001b[0m\u001b[0;34m[\u001b[0m\u001b[0mcul\u001b[0m\u001b[0;34m]\u001b[0m\u001b[0;34m.\u001b[0m\u001b[0mastype\u001b[0m\u001b[0;34m(\u001b[0m\u001b[0mnp\u001b[0m\u001b[0;34m.\u001b[0m\u001b[0mdatetime64\u001b[0m\u001b[0;34m)\u001b[0m\u001b[0;34m\u001b[0m\u001b[0;34m\u001b[0m\u001b[0m\n\u001b[0m",
            "\u001b[0;32m/usr/local/lib/python3.11/dist-packages/cudf/utils/performance_tracking.py\u001b[0m in \u001b[0;36mwrapper\u001b[0;34m(*args, **kwargs)\u001b[0m\n\u001b[1;32m     49\u001b[0m                     )\n\u001b[1;32m     50\u001b[0m                 )\n\u001b[0;32m---> 51\u001b[0;31m             \u001b[0;32mreturn\u001b[0m \u001b[0mfunc\u001b[0m\u001b[0;34m(\u001b[0m\u001b[0;34m*\u001b[0m\u001b[0margs\u001b[0m\u001b[0;34m,\u001b[0m \u001b[0;34m**\u001b[0m\u001b[0mkwargs\u001b[0m\u001b[0;34m)\u001b[0m\u001b[0;34m\u001b[0m\u001b[0;34m\u001b[0m\u001b[0m\n\u001b[0m\u001b[1;32m     52\u001b[0m \u001b[0;34m\u001b[0m\u001b[0m\n\u001b[1;32m     53\u001b[0m     \u001b[0;32mreturn\u001b[0m \u001b[0mwrapper\u001b[0m\u001b[0;34m\u001b[0m\u001b[0;34m\u001b[0m\u001b[0m\n",
            "\u001b[0;32m/usr/local/lib/python3.11/dist-packages/cudf/core/series.py\u001b[0m in \u001b[0;36mastype\u001b[0;34m(self, dtype, copy, errors)\u001b[0m\n\u001b[1;32m   2138\u001b[0m             \u001b[0mdtype\u001b[0m \u001b[0;34m=\u001b[0m \u001b[0;34m{\u001b[0m\u001b[0mself\u001b[0m\u001b[0;34m.\u001b[0m\u001b[0mname\u001b[0m\u001b[0;34m:\u001b[0m \u001b[0mcudf\u001b[0m\u001b[0;34m.\u001b[0m\u001b[0mdtype\u001b[0m\u001b[0;34m(\u001b[0m\u001b[0mdtype\u001b[0m\u001b[0;34m[\u001b[0m\u001b[0mself\u001b[0m\u001b[0;34m.\u001b[0m\u001b[0mname\u001b[0m\u001b[0;34m]\u001b[0m\u001b[0;34m)\u001b[0m\u001b[0;34m}\u001b[0m\u001b[0;34m\u001b[0m\u001b[0;34m\u001b[0m\u001b[0m\n\u001b[1;32m   2139\u001b[0m         \u001b[0;32melse\u001b[0m\u001b[0;34m:\u001b[0m\u001b[0;34m\u001b[0m\u001b[0;34m\u001b[0m\u001b[0m\n\u001b[0;32m-> 2140\u001b[0;31m             \u001b[0mdtype\u001b[0m \u001b[0;34m=\u001b[0m \u001b[0;34m{\u001b[0m\u001b[0mself\u001b[0m\u001b[0;34m.\u001b[0m\u001b[0mname\u001b[0m\u001b[0;34m:\u001b[0m \u001b[0mcudf\u001b[0m\u001b[0;34m.\u001b[0m\u001b[0mdtype\u001b[0m\u001b[0;34m(\u001b[0m\u001b[0mdtype\u001b[0m\u001b[0;34m)\u001b[0m\u001b[0;34m}\u001b[0m\u001b[0;34m\u001b[0m\u001b[0;34m\u001b[0m\u001b[0m\n\u001b[0m\u001b[1;32m   2141\u001b[0m         \u001b[0;32mreturn\u001b[0m \u001b[0msuper\u001b[0m\u001b[0;34m(\u001b[0m\u001b[0;34m)\u001b[0m\u001b[0;34m.\u001b[0m\u001b[0mastype\u001b[0m\u001b[0;34m(\u001b[0m\u001b[0mdtype\u001b[0m\u001b[0;34m,\u001b[0m \u001b[0mcopy\u001b[0m\u001b[0;34m,\u001b[0m \u001b[0merrors\u001b[0m\u001b[0;34m)\u001b[0m\u001b[0;34m\u001b[0m\u001b[0;34m\u001b[0m\u001b[0m\n\u001b[1;32m   2142\u001b[0m \u001b[0;34m\u001b[0m\u001b[0m\n",
            "\u001b[0;32m/usr/local/lib/python3.11/dist-packages/cudf/core/dtypes.py\u001b[0m in \u001b[0;36mdtype\u001b[0;34m(arbitrary)\u001b[0m\n\u001b[1;32m     77\u001b[0m             \u001b[0;32mnot\u001b[0m \u001b[0;32min\u001b[0m \u001b[0mcudf\u001b[0m\u001b[0;34m.\u001b[0m\u001b[0mutils\u001b[0m\u001b[0;34m.\u001b[0m\u001b[0mdtypes\u001b[0m\u001b[0;34m.\u001b[0m\u001b[0mSUPPORTED_NUMPY_TO_PYLIBCUDF_TYPES\u001b[0m\u001b[0;34m\u001b[0m\u001b[0;34m\u001b[0m\u001b[0m\n\u001b[1;32m     78\u001b[0m         ):\n\u001b[0;32m---> 79\u001b[0;31m             \u001b[0;32mraise\u001b[0m \u001b[0mTypeError\u001b[0m\u001b[0;34m(\u001b[0m\u001b[0;34mf\"Unsupported type {np_dtype}\"\u001b[0m\u001b[0;34m)\u001b[0m\u001b[0;34m\u001b[0m\u001b[0;34m\u001b[0m\u001b[0m\n\u001b[0m\u001b[1;32m     80\u001b[0m         \u001b[0;32mreturn\u001b[0m \u001b[0mnp_dtype\u001b[0m\u001b[0;34m\u001b[0m\u001b[0;34m\u001b[0m\u001b[0m\n\u001b[1;32m     81\u001b[0m \u001b[0;34m\u001b[0m\u001b[0m\n",
            "\u001b[0;31mTypeError\u001b[0m: Unsupported type datetime64"
          ]
        }
      ]
    }
  ]
}